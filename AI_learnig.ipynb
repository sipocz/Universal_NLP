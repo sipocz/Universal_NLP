{
 "cells": [
  {
   "cell_type": "code",
   "execution_count": 1,
   "metadata": {},
   "outputs": [
    {
     "data": {
      "text/plain": [
       "'\\nCHANGE LOG\\n\\n20220213: start-end\\n\\n\\n'"
      ]
     },
     "execution_count": 1,
     "metadata": {},
     "output_type": "execute_result"
    }
   ],
   "source": [
    "'''\n",
    "CHANGE LOG\n",
    "\n",
    "20220213: start-end\n",
    "\n",
    "\n",
    "'''\n",
    "\n",
    "# Dep:\n",
    "# NLTK\n",
    "# plattform\n",
    "# "
   ]
  },
  {
   "cell_type": "code",
   "execution_count": 3,
   "metadata": {},
   "outputs": [],
   "source": [
    "import nltk\n",
    "import platform\n",
    "from nltk.tokenize import sent_tokenize, word_tokenize\n",
    "import gensim\n",
    "\n",
    "from gensim.models import Doc2Vec\n",
    "\n",
    "import pandas as pd\n"
   ]
  },
  {
   "cell_type": "code",
   "execution_count": 3,
   "metadata": {},
   "outputs": [],
   "source": [
    "\n",
    "# nltk.download() NLTK library download\n",
    "\n"
   ]
  },
  {
   "cell_type": "code",
   "execution_count": 4,
   "metadata": {},
   "outputs": [],
   "source": [
    "\n",
    "\n",
    "\n"
   ]
  },
  {
   "cell_type": "code",
   "execution_count": 34,
   "metadata": {},
   "outputs": [],
   "source": [
    "_corpus_first_=\"ABB\"\n",
    "_corpus_version_=\"20220517_204500\""
   ]
  },
  {
   "cell_type": "code",
   "execution_count": 5,
   "metadata": {},
   "outputs": [],
   "source": [
    "import platform\n",
    "os_str=platform.platform()\n",
    "if \"Windows\" in os_str:\n",
    "    _OS_=\"windows\"\n",
    "else:\n",
    "    _OS_=\"linux\""
   ]
  },
  {
   "cell_type": "code",
   "execution_count": 36,
   "metadata": {},
   "outputs": [],
   "source": [
    "if _OS_== \"linux\":\n",
    "    #_testpdf_=\"/Users/sipocz/Downloads/abb/7PAA000908_A_en_SECURITY - OPC Server for AC 800M - Remote Code Execution Vulnerability.pdf\"  #csak a png kimenet miatt kell!\n",
    "    _pdflist_=\"/ABB/pdf_list_20220226.csv\"\n",
    "    _corpus_=\"/corpus/\"\n",
    "    _corpus_name_=_corpus_first_+\"_sentences_\"+_corpus_version_+\".txt\"\n",
    "else:\n",
    " \n",
    "   #_testpdf_=\"C:/Users/sipocz/Downloads/abb/7PAA000908_A_en_SECURITY - OPC Server for AC 800M - Remote Code Execution Vulnerability.pdf\"  #csak a png kimenet miatt kell!\n",
    "    _pdflist_=\"E:/ABB_nlp/ABB_pdf_list_20220516.csv\"\n",
    "    _corpus_=\"E:/ABB_nlp/corpus/\"\n",
    "    _corpus_name_=_corpus_first_+\"_sentences_\"+_corpus_version_+\".txt\""
   ]
  },
  {
   "cell_type": "code",
   "execution_count": 37,
   "metadata": {},
   "outputs": [],
   "source": [
    "if _OS_== \"linux\":\n",
    "    _fname_=\"ABB_sentences_20220226212400.txt\"  # Corpus name\n",
    "    #_basepath_=\"/home/sipocz/drive/\"\n",
    "else:\n",
    "    _fname_=\"ABB_sentences_20220516_214400.txt\" # Corpus name\n",
    "    #_basepath_=\"C:/Users/sipocz/Downloads/\"\n",
    "    _corpus_=\"E:/ABB_nlp/corpus/\" # Curpus directory\n",
    "    _brain_file_=_corpus_first_+\"_BRAIN_\"+_corpus_version_+\".model\"\n",
    "    _brain_path_=\"E:/ABB_nlp/brain/\"\n"
   ]
  },
  {
   "cell_type": "code",
   "execution_count": 7,
   "metadata": {},
   "outputs": [],
   "source": [
    "def read_file(fname, counter=0):\n",
    "    out=[]\n",
    "    f=open(fname,\"r\",encoding=\"utf-8\")\n",
    "    if counter!=0:\n",
    "        for i in range(counter):\n",
    "            one_line=f.readline()\n",
    "            out.append(one_line.strip())\n",
    "    else:\n",
    "        while True:\n",
    "            one_line=f.readline()\n",
    "            if one_line==\"\":\n",
    "                print(\"EOF\")\n",
    "                \n",
    "                break\n",
    "            out.append(one_line.strip())\n",
    "\n",
    "    \n",
    "    return(out)"
   ]
  },
  {
   "cell_type": "code",
   "execution_count": 10,
   "metadata": {},
   "outputs": [
    {
     "name": "stdout",
     "output_type": "stream",
     "text": [
      "EOF\n"
     ]
    }
   ],
   "source": [
    "st=read_file(_corpus_+_fname_)"
   ]
  },
  {
   "cell_type": "code",
   "execution_count": 11,
   "metadata": {},
   "outputs": [
    {
     "data": {
      "text/plain": [
       "1953684"
      ]
     },
     "execution_count": 11,
     "metadata": {},
     "output_type": "execute_result"
    }
   ],
   "source": [
    "len(st)"
   ]
  },
  {
   "cell_type": "code",
   "execution_count": 12,
   "metadata": {},
   "outputs": [],
   "source": [
    "def str2list(str):\n",
    "    s=str[1:-1]\n",
    "    s=s.replace(\"', '\",\"#\")[1:-1]\n",
    "    #print(s)\n",
    "    out=s.split(\"#\")\n",
    "    #print(out)\n",
    "    return(out)"
   ]
  },
  {
   "cell_type": "code",
   "execution_count": 13,
   "metadata": {},
   "outputs": [],
   "source": [
    "l=[str2list(x) for x in st]"
   ]
  },
  {
   "cell_type": "code",
   "execution_count": 14,
   "metadata": {},
   "outputs": [],
   "source": [
    "def create_sentence(lin:list):\n",
    "    '''\n",
    "    in:  lin -- list of words\n",
    "    out: out -- sentence string \n",
    "    '''\n",
    "    out=\"\"\n",
    "    for i in lin:\n",
    "        out=out+\" \"+i\n",
    "    return(out)"
   ]
  },
  {
   "cell_type": "code",
   "execution_count": 15,
   "metadata": {},
   "outputs": [],
   "source": [
    "def create_doc_corpus(fname,lst:list):\n",
    "    \"\"\"Doc corpőus generator\n",
    "\n",
    "    Args:\n",
    "        fname (str): file name\n",
    "        lst (list): list\n",
    "    \"\"\"\n",
    "\n",
    "\n",
    "    out=[]\n",
    "    f=open(fname,\"w\",encoding=\"utf-8\")\n",
    "\n",
    "    for i in lst[:]:\n",
    "        sentence=create_sentence(i)\n",
    "        if len(sentence)==1:\n",
    "            print(sentence+\" null\")\n",
    "            sentence=\"__null__\"    \n",
    "        f.write(sentence+\"\\n\")                \n",
    "    f.close()    \n",
    "    \n",
    "    \n",
    "    "
   ]
  },
  {
   "cell_type": "code",
   "execution_count": 16,
   "metadata": {},
   "outputs": [],
   "source": [
    "sentence_corpus_file=_corpus_+\"corpus_\"+_fname_"
   ]
  },
  {
   "cell_type": "code",
   "execution_count": 17,
   "metadata": {},
   "outputs": [],
   "source": [
    "create_doc_corpus(sentence_corpus_file,l)"
   ]
  },
  {
   "cell_type": "code",
   "execution_count": 16,
   "metadata": {},
   "outputs": [
    {
     "data": {
      "text/plain": [
       "'index_1'"
      ]
     },
     "execution_count": 16,
     "metadata": {},
     "output_type": "execute_result"
    }
   ],
   "source": [
    "\n",
    "'''\n",
    "mongo_client = pymongo.MongoClient(_mongo_conn_)\n",
    "mongo_db = mongo_client.test\n",
    "\n",
    "\n",
    "\n",
    "mongo_db = mongo_client[_MONGODB_]\n",
    "mongo_col=mongo_db[_MONGOCOLL_]\n",
    "\n",
    "mongo_col.create_index(\"index\")\n",
    "'''"
   ]
  },
  {
   "cell_type": "code",
   "execution_count": 18,
   "metadata": {},
   "outputs": [
    {
     "data": {
      "text/plain": [
       "'E:/ABB_nlp/corpus/corpus_ABB_sentences_20220516_214400.txt'"
      ]
     },
     "execution_count": 18,
     "metadata": {},
     "output_type": "execute_result"
    }
   ],
   "source": [
    "sentence_corpus_file"
   ]
  },
  {
   "cell_type": "code",
   "execution_count": 45,
   "metadata": {},
   "outputs": [],
   "source": [
    "doc_model=None"
   ]
  },
  {
   "cell_type": "code",
   "execution_count": 46,
   "metadata": {},
   "outputs": [],
   "source": [
    "doc_model =  Doc2Vec(corpus_file=sentence_corpus_file, vector_size=350,epochs=500,dm=0,workers=4,)"
   ]
  },
  {
   "cell_type": "code",
   "execution_count": 21,
   "metadata": {},
   "outputs": [],
   "source": [
    "doc_model.save( _brain_path_+_brain_file_)"
   ]
  },
  {
   "cell_type": "code",
   "execution_count": 23,
   "metadata": {},
   "outputs": [],
   "source": [
    "# VVVVVV   ITT MÁR A TESZT KEZDŐDIK EZ A SEARCH ENGINE RÉSZE LESZ   VVVVV"
   ]
  },
  {
   "cell_type": "code",
   "execution_count": 22,
   "metadata": {},
   "outputs": [],
   "source": [
    "doc_model=None"
   ]
  },
  {
   "cell_type": "code",
   "execution_count": 23,
   "metadata": {},
   "outputs": [],
   "source": [
    "doc_model=Doc2Vec.load(_brain_path_+_brain_file_)"
   ]
  },
  {
   "cell_type": "code",
   "execution_count": 26,
   "metadata": {},
   "outputs": [],
   "source": [
    "'''\n",
    "mongo_client = pymongo.MongoClient(_mongo_conn_)\n",
    "mongo_db = mongo_client.test\n",
    "'''"
   ]
  },
  {
   "cell_type": "code",
   "execution_count": 27,
   "metadata": {},
   "outputs": [],
   "source": [
    "_MONGODB_=\"PDF_DB\"\n",
    "_MONGOCOLL_=\"ABB_pdf\""
   ]
  },
  {
   "cell_type": "code",
   "execution_count": 28,
   "metadata": {},
   "outputs": [],
   "source": [
    "\n",
    "'''\n",
    "mongo_db = mongo_client[_MONGODB_]\n",
    "mongo_col=mongo_db[_MONGOCOLL_]\n",
    "'''"
   ]
  },
  {
   "cell_type": "code",
   "execution_count": 29,
   "metadata": {},
   "outputs": [],
   "source": [
    "#Futtassuk innen a keresést !!!"
   ]
  },
  {
   "cell_type": "code",
   "execution_count": 29,
   "metadata": {},
   "outputs": [
    {
     "name": "stdout",
     "output_type": "stream",
     "text": [
      "['advant', 'mod', 'tcl']\n"
     ]
    }
   ],
   "source": [
    "search_text=\"Profibus Pa support communication modul\"\n",
    "search_text=\"PDL table query\"\n",
    "#search_text=\"advainform display configuration\"\n",
    "search_text=\"advant MOD tcl\"\n",
    "#search_text=\"modulebus termination\"\n",
    "#search_text=\"time series encoder decoder\"\n",
    "#search_text=\"OPC Vulnerability sequrity cyber advisory\"\n",
    "\n",
    "\n",
    "\n",
    "\n",
    "\n",
    "search_list=search_text.lower().split(\" \")\n",
    "print(search_list)"
   ]
  },
  {
   "cell_type": "code",
   "execution_count": 30,
   "metadata": {},
   "outputs": [],
   "source": [
    "model1=doc_model.infer_vector(search_list,epochs=1220)"
   ]
  },
  {
   "cell_type": "code",
   "execution_count": 31,
   "metadata": {},
   "outputs": [],
   "source": [
    "ans=doc_model.dv.similar_by_vector(model1,topn=40)"
   ]
  },
  {
   "cell_type": "code",
   "execution_count": 32,
   "metadata": {},
   "outputs": [
    {
     "data": {
      "text/plain": [
       "[(770602, 0.8301176428794861),\n",
       " (769238, 0.8055739402770996),\n",
       " (769217, 0.805268406867981),\n",
       " (1741593, 0.8047147393226624),\n",
       " (470125, 0.8046889305114746),\n",
       " (8468, 0.8046696782112122),\n",
       " (987247, 0.8044142127037048),\n",
       " (1740533, 0.8035126328468323),\n",
       " (769263, 0.8034011125564575),\n",
       " (470215, 0.8026781678199768),\n",
       " (206688, 0.802313506603241),\n",
       " (239589, 0.8018539547920227),\n",
       " (9878, 0.8010326027870178),\n",
       " (23078, 0.8001462817192078),\n",
       " (13831, 0.8001380562782288),\n",
       " (230427, 0.7998023629188538),\n",
       " (1648902, 0.7997943162918091),\n",
       " (18102, 0.7997735142707825),\n",
       " (219942, 0.7997025847434998),\n",
       " (415078, 0.7995883822441101),\n",
       " (470054, 0.7994556427001953),\n",
       " (100448, 0.7992610931396484),\n",
       " (1238212, 0.7991908192634583),\n",
       " (439963, 0.7989503145217896),\n",
       " (416155, 0.7988960146903992),\n",
       " (147475, 0.7988525032997131),\n",
       " (532107, 0.7986819744110107),\n",
       " (986170, 0.7985561490058899),\n",
       " (868052, 0.7979101538658142),\n",
       " (1771921, 0.7974100112915039),\n",
       " (10820, 0.7968249917030334),\n",
       " (32597, 0.7966251969337463),\n",
       " (1238141, 0.7962110638618469),\n",
       " (1345376, 0.7959804534912109),\n",
       " (151621, 0.7959340810775757),\n",
       " (107015, 0.7958313226699829),\n",
       " (119276, 0.7957859635353088),\n",
       " (868287, 0.795681893825531),\n",
       " (219825, 0.7955321669578552),\n",
       " (1018394, 0.7945882081985474)]"
      ]
     },
     "execution_count": 32,
     "metadata": {},
     "output_type": "execute_result"
    }
   ],
   "source": [
    "ans"
   ]
  },
  {
   "cell_type": "code",
   "execution_count": 33,
   "metadata": {},
   "outputs": [
    {
     "name": "stdout",
     "output_type": "stream",
     "text": [
      " 0-->83.0-->      770602-->['advant', 'mod', '_digit_digit_']\n",
      " 1-->80.6-->      769238-->['mod']\n",
      " 2-->80.5-->      769217-->['mod']\n",
      " 3-->80.5-->     1741593-->['advant']\n",
      " 4-->80.5-->      470125-->['advant']\n",
      " 5-->80.5-->        8468-->['tcl', 'tclgatpk', 'tclgatpk', 'tcl_scpk', 'tcl_scpk']\n",
      " 6-->80.4-->      987247-->['advant']\n",
      " 7-->80.4-->     1740533-->['advant']\n",
      " 8-->80.3-->      769263-->['mod']\n",
      " 9-->80.3-->      470215-->['advant']\n",
      "10-->80.2-->      206688-->['tcl']\n",
      "11-->80.2-->      239589-->['advant']\n",
      "12-->80.1-->        9878-->['advant']\n",
      "13-->80.0-->       23078-->['advant', 'ocs']\n",
      "14-->80.0-->       13831-->['advant']\n",
      "15-->80.0-->      230427-->['mod', 'ule']\n",
      "16-->80.0-->     1648902-->['advant', 'ocs']\n",
      "17-->80.0-->       18102-->['advant', 'ocs']\n",
      "18-->80.0-->      219942-->['advant', 'advant']\n",
      "19-->80.0-->      415078-->['advant']\n"
     ]
    }
   ],
   "source": [
    "# DEBUG\n",
    "\n",
    "for i in range(20):\n",
    "    print(f\"{i:2}-->{ans[i][1]*100:3.3}-->{ans[i][0]:12}-->{l[ans[i][0]][0:10]}\")\n",
    "\n"
   ]
  },
  {
   "cell_type": "code",
   "execution_count": 281,
   "metadata": {},
   "outputs": [],
   "source": [
    "df_meta=pd.read_csv(_corpus_+\"_META_\"+_fname_)"
   ]
  },
  {
   "cell_type": "code",
   "execution_count": 282,
   "metadata": {},
   "outputs": [],
   "source": [
    "\n",
    "def print_files(ans):\n",
    "    o=[]\n",
    "    indexes=[ans[i][0] for i,_ in enumerate(ans)] \n",
    "    for i in indexes:\n",
    "        i_str=\"D:\\\\arXiv\\\\\"+(df_meta.loc[df_meta['index']==i][\"fname\"].to_string().split()[1])+\".pdf\"\n",
    "        print(i_str)\n",
    "        o.append(i_str)\n",
    "    \n",
    "    return(o)"
   ]
  },
  {
   "cell_type": "code",
   "execution_count": 283,
   "metadata": {},
   "outputs": [
    {
     "name": "stdout",
     "output_type": "stream",
     "text": [
      "D:\\arXiv\\2203.09268.pdf\n",
      "D:\\arXiv\\2203.08067.pdf\n",
      "D:\\arXiv\\2203.03978.pdf\n",
      "D:\\arXiv\\2202.05093.pdf\n",
      "D:\\arXiv\\2202.09996.pdf\n",
      "D:\\arXiv\\2203.05109.pdf\n",
      "D:\\arXiv\\2202.07125.pdf\n",
      "D:\\arXiv\\2203.0669.pdf\n",
      "D:\\arXiv\\2203.00597.pdf\n",
      "D:\\arXiv\\2203.03374.pdf\n",
      "D:\\arXiv\\2203.02658.pdf\n",
      "D:\\arXiv\\2203.02658.pdf\n",
      "D:\\arXiv\\2202.07125.pdf\n",
      "D:\\arXiv\\2202.06258.pdf\n",
      "D:\\arXiv\\2203.09096.pdf\n",
      "D:\\arXiv\\2202.06987.pdf\n",
      "D:\\arXiv\\2203.02158.pdf\n",
      "D:\\arXiv\\2202.06258.pdf\n",
      "D:\\arXiv\\2203.02658.pdf\n",
      "D:\\arXiv\\2202.11885.pdf\n",
      "D:\\arXiv\\2203.03374.pdf\n",
      "D:\\arXiv\\2202.06027.pdf\n",
      "D:\\arXiv\\2202.11867.pdf\n",
      "D:\\arXiv\\2203.02158.pdf\n",
      "D:\\arXiv\\2203.09074.pdf\n",
      "D:\\arXiv\\2203.02658.pdf\n",
      "D:\\arXiv\\2203.02355.pdf\n",
      "D:\\arXiv\\2202.11623.pdf\n",
      "D:\\arXiv\\2203.09033.pdf\n",
      "D:\\arXiv\\2012.03854.pdf\n",
      "D:\\arXiv\\2202.11885.pdf\n",
      "D:\\arXiv\\2202.11089.pdf\n",
      "D:\\arXiv\\2203.09074.pdf\n",
      "D:\\arXiv\\2203.02658.pdf\n",
      "D:\\arXiv\\2203.08852.pdf\n",
      "D:\\arXiv\\2203.09074.pdf\n",
      "D:\\arXiv\\2203.08827.pdf\n",
      "D:\\arXiv\\2203.09142.pdf\n",
      "D:\\arXiv\\2203.02355.pdf\n",
      "D:\\arXiv\\2203.03311.pdf\n"
     ]
    }
   ],
   "source": [
    "files_ans=print_files(ans)"
   ]
  },
  {
   "cell_type": "code",
   "execution_count": 284,
   "metadata": {},
   "outputs": [
    {
     "ename": "SyntaxError",
     "evalue": "invalid syntax (<ipython-input-284-29e0c3615294>, line 1)",
     "output_type": "error",
     "traceback": [
      "\u001b[1;36m  File \u001b[1;32m\"<ipython-input-284-29e0c3615294>\"\u001b[1;36m, line \u001b[1;32m1\u001b[0m\n\u001b[1;33m    ---\u001b[0m\n\u001b[1;37m       ^\u001b[0m\n\u001b[1;31mSyntaxError\u001b[0m\u001b[1;31m:\u001b[0m invalid syntax\n"
     ]
    }
   ],
   "source": [
    "---"
   ]
  },
  {
   "cell_type": "code",
   "execution_count": null,
   "metadata": {},
   "outputs": [],
   "source": [
    "indexes=[ans[i][0] for i,_ in enumerate(ans)] "
   ]
  },
  {
   "cell_type": "code",
   "execution_count": null,
   "metadata": {},
   "outputs": [],
   "source": [
    "#indexes  # DEBUG"
   ]
  },
  {
   "cell_type": "code",
   "execution_count": null,
   "metadata": {},
   "outputs": [],
   "source": [
    "def get_pos_info(indexlist:list):\n",
    "    out=[]\n",
    "    for actual_index in indexlist:\n",
    "        cursor=mongo_col.find({\"index\":actual_index})\n",
    "        for element in cursor:\n",
    "            out.append(element)\n",
    "            #print(element)\n",
    "    return(out)\n",
    "            \n"
   ]
  },
  {
   "cell_type": "code",
   "execution_count": null,
   "metadata": {},
   "outputs": [],
   "source": [
    "result_list=get_pos_info(indexes)"
   ]
  },
  {
   "cell_type": "code",
   "execution_count": null,
   "metadata": {},
   "outputs": [
    {
     "data": {
      "text/plain": [
       "[{'_id': 706050,\n",
       "  'index': 706050,\n",
       "  'fname': '2PAA112277-600_A_en_System_800xA_6.0_Release_Notes_Resolved_Issues',\n",
       "  'page': 148,\n",
       "  'pos0': 259,\n",
       "  'pos1': 129,\n",
       "  'pos2': 472,\n",
       "  'pos3': 152},\n",
       " {'_id': 846204,\n",
       "  'index': 846204,\n",
       "  'fname': '3BDS011224-600_A_en_System_800xA_Engineering_6.0_Engineering_Studio_Function_Designer',\n",
       "  'page': 427,\n",
       "  'pos0': 132,\n",
       "  'pos1': 321,\n",
       "  'pos2': 299,\n",
       "  'pos3': 332},\n",
       " {'_id': 889582,\n",
       "  'index': 889582,\n",
       "  'fname': '3BUF001093-600_en_System_800xA_Information_Management_6.0_Display_Services',\n",
       "  'page': 52,\n",
       "  'pos0': 123,\n",
       "  'pos1': 233,\n",
       "  'pos2': 427,\n",
       "  'pos3': 245},\n",
       " {'_id': 691889,\n",
       "  'index': 691889,\n",
       "  'fname': 'WBPEEUD230003A2_-_en_Harmony_Area_Controller_Data_Sheet',\n",
       "  'page': 3,\n",
       "  'pos0': 70,\n",
       "  'pos1': 658,\n",
       "  'pos2': 219,\n",
       "  'pos3': 690},\n",
       " {'_id': 805485,\n",
       "  'index': 805485,\n",
       "  'fname': '3BSE042821-600_en_AC_800M_6.0_Interfacing_SATT_IO',\n",
       "  'page': 5,\n",
       "  'pos0': 109,\n",
       "  'pos1': 134,\n",
       "  'pos2': 321,\n",
       "  'pos3': 148},\n",
       " {'_id': 868844,\n",
       "  'index': 868844,\n",
       "  'fname': '3BUA000157-600_en_800xA_for_Harmony_6.0_Configuration',\n",
       "  'page': 27,\n",
       "  'pos0': 109,\n",
       "  'pos1': 326,\n",
       "  'pos2': 341,\n",
       "  'pos3': 338},\n",
       " {'_id': 919814,\n",
       "  'index': 919814,\n",
       "  'fname': '3BSE020923-600_en_S800_I_O_Getting_Started',\n",
       "  'page': 120,\n",
       "  'pos0': 123,\n",
       "  'pos1': 100,\n",
       "  'pos2': 491,\n",
       "  'pos3': 125},\n",
       " {'_id': 1708790,\n",
       "  'index': 1708790,\n",
       "  'fname': '3BSE056141-610_A_en_System_800xA_Virtualization_with_VMware_vSphere_ESXi',\n",
       "  'page': 162,\n",
       "  'pos0': 42,\n",
       "  'pos1': 410,\n",
       "  'pos2': 177,\n",
       "  'pos3': 428},\n",
       " {'_id': 734591,\n",
       "  'index': 734591,\n",
       "  'fname': '3BSE044423-600_en_800xA_for_Safeguard_6.0_Graphic_Library',\n",
       "  'page': 49,\n",
       "  'pos0': 109,\n",
       "  'pos1': 381,\n",
       "  'pos2': 375,\n",
       "  'pos3': 393}]"
      ]
     },
     "execution_count": 188,
     "metadata": {},
     "output_type": "execute_result"
    }
   ],
   "source": [
    "result_list  #debug"
   ]
  },
  {
   "cell_type": "code",
   "execution_count": null,
   "metadata": {},
   "outputs": [],
   "source": [
    "def print_document_name(result,ans):\n",
    "    out=[]\n",
    "    for i,result_index in enumerate(result):\n",
    "        strout=f\"{i:3} .. {ans[i][1]*100:3.3}% .. {result_index['fname']+'.pdf':120} .. page:{result_index['page']:4}\"\n",
    "        # print(strout) #debug\n",
    "        out.append(strout)\n",
    "    return(out)     "
   ]
  },
  {
   "cell_type": "code",
   "execution_count": null,
   "metadata": {},
   "outputs": [],
   "source": [
    "result=print_document_name( result_list,ans)"
   ]
  },
  {
   "cell_type": "code",
   "execution_count": null,
   "metadata": {},
   "outputs": [],
   "source": []
  },
  {
   "cell_type": "code",
   "execution_count": null,
   "metadata": {},
   "outputs": [],
   "source": []
  }
 ],
 "metadata": {
  "interpreter": {
   "hash": "622dee7381bc3236e5badebf3e8f84fcf914d18a62015ead12f7fad94a33c52e"
  },
  "kernelspec": {
   "display_name": "Python 3.8.6 64-bit",
   "language": "python",
   "name": "python3"
  },
  "language_info": {
   "codemirror_mode": {
    "name": "ipython",
    "version": 3
   },
   "file_extension": ".py",
   "mimetype": "text/x-python",
   "name": "python",
   "nbconvert_exporter": "python",
   "pygments_lexer": "ipython3",
   "version": "3.8.6"
  },
  "orig_nbformat": 4
 },
 "nbformat": 4,
 "nbformat_minor": 2
}
